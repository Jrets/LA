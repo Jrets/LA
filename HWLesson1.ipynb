{
 "cells": [
  {
   "cell_type": "markdown",
   "metadata": {},
   "source": [
    "##  Часть 1"
   ]
  },
  {
   "cell_type": "markdown",
   "metadata": {},
   "source": [
    "### __1.__ Исследовать на линейную зависимость:\n",
    "\n",
    "$$f_{1}(x)=e^{x}, f_{2}(x)=1, f_{3}(x)=x+1, f_{4}(x)=x-e^{x}.$$\n"
   ]
  },
  {
   "cell_type": "markdown",
   "metadata": {},
   "source": [
    "$f_{4}(x)=f_{3}(x) - f_{1}(x) - f_{2}(x)$, следовательно функции линейно зависимы"
   ]
  },
  {
   "cell_type": "markdown",
   "metadata": {},
   "source": [
    "### __2.__ Исследовать на линейную зависимость:\n",
    "$$f_{1}(x)=2, f_{2}(x)=x, f_{3}(x)=x^{2}, f_{4}(x)=(x+1)^{2}$$"
   ]
  },
  {
   "cell_type": "markdown",
   "metadata": {},
   "source": [
    "$f_{4}(x) = f_{3}(x) + f_{1}(x)f_{2}(x) + 0.5f_{1}(x)$следовательно функции линейно зависимы"
   ]
  },
  {
   "cell_type": "markdown",
   "metadata": {},
   "source": [
    "### __3.__ Найти координаты вектора $x = (2, 3, 5)\\in \\mathbb{R}^{3}$ в базисе $b_{1}=(0, 0, 10)$, $b_{2}=(2, 0, 0)$, $b_{3}=(0, 1, 0)$.\n"
   ]
  },
  {
   "cell_type": "markdown",
   "metadata": {},
   "source": [
    "$x = (2, 3, 5) = (2, 0, 0) + (0, 3, 0) + (0, 0, 5) = b_2 + 3\\cdot b_3 + 0.5\\cdot b_1 $<br>\n",
    "координатами вектора $x$ в заданном базисе являются $0.5$, $1$, $3$"
   ]
  },
  {
   "cell_type": "markdown",
   "metadata": {},
   "source": [
    "### __4.__ Найти координаты вектора $3x^{2}-2x+2\\in\\mathbb{R}^{3}[x]$: <br>\n",
    "\n",
    "#### а) в базисе $1$, $x$, $x^{2}$;"
   ]
  },
  {
   "cell_type": "markdown",
   "metadata": {},
   "source": [
    "$x = (3,-2,2)\\in \\mathbb{R}^{3}$<br>\n",
    "\n",
    " в базисе $b_{1}=(0, 0, 1)$, $b_{2}=(0, 1, 0)$, $b_{3}=(1, 0, 0)$."
   ]
  },
  {
   "cell_type": "markdown",
   "metadata": {},
   "source": [
    "$x = (3,-2,2) = (3,0,0) + (0,-2,0) + (0,0,2) = 3 \\cdot b_3 + (-2)\\cdot b_2 + 2\\cdot b_1$ <br>\n",
    "координатами вектора $x$ в  базисе $1$, $x$, $x^{2}$  являются $2$, $-2$, $3$"
   ]
  },
  {
   "cell_type": "markdown",
   "metadata": {},
   "source": [
    "\n",
    "#### б) в базисе $x^{2}$, $x-1$, $1$."
   ]
  },
  {
   "cell_type": "markdown",
   "metadata": {},
   "source": [
    "$x = (3,-2,2)\\in \\mathbb{R}^{3}$<br>"
   ]
  },
  {
   "cell_type": "markdown",
   "metadata": {},
   "source": [
    " в базисе $b_{1}=(1, 0, 0)$, $b_{2}=(0, 1, -1)$, $b_{3}=(0, 0, 1)$."
   ]
  },
  {
   "cell_type": "markdown",
   "metadata": {},
   "source": [
    " $x = (3,-2,2) = \\alpha_1 (1,0,0) +\\alpha_2 (0,1,-1) +\\alpha_3 (0,0,1) = (\\alpha_1 \\cdot 1 ,\\alpha_1 \\cdot 0,\\alpha_1 \\cdot 0) + (\\alpha_2 \\cdot 0,\\alpha_2 \\cdot 1,\\alpha_2 \\cdot (-1)) + (\\alpha_3 \\cdot 0,\\alpha_3 \\cdot 0, \\alpha_3 \\cdot 1) =$ <br> \n",
    " $ (\\alpha_1, 0, 0) + (0,\\alpha_2 ,- \\alpha_2 ) + (0, 0, \\alpha_3) = (\\alpha_1,\\alpha_2 ,  \\alpha_3 - \\alpha_2 ) $ =>"
   ]
  },
  {
   "cell_type": "markdown",
   "metadata": {},
   "source": [
    " $ \\alpha_1 = 3$<br>\n",
    " $\\alpha_2 = -2$<br>\n",
    " $ \\alpha_3 - \\alpha_2 = 2$ => $ \\alpha_3  = 0$ "
   ]
  },
  {
   "cell_type": "markdown",
   "metadata": {},
   "source": [
    "координатами вектора $x$ в  базисе $x^{2}$, $x-1$, $1$  являются $3$, $-2$, $0$"
   ]
  },
  {
   "cell_type": "markdown",
   "metadata": {},
   "source": [
    "### __5.__ Установить, является ли линейным подпространством:\n",
    "\n",
    "#### а) совокупность всех векторов трехмерного пространства, у которых по крайней мере одна из первых двух координат равна нулю;\n",
    "    \n"
   ]
  },
  {
   "cell_type": "markdown",
   "metadata": {},
   "source": [
    "$(0, a, c)+(b, 0, d) = (b, a, c+d),$\n",
    " \n",
    " \n",
    "Полученный вектор уже не принадлежат указанному в задании множеству всех векторов вида $(0, a, c)$, то есть данное множество не является подпространством линейного пространства $\\mathbb{R}^{3}$."
   ]
  },
  {
   "cell_type": "markdown",
   "metadata": {},
   "source": [
    "#### б) все векторы, являющиеся линейными комбинациями данных векторов $\\{u_{1}, u_{2}, \\ldots, u_{n}\\}$."
   ]
  },
  {
   "cell_type": "markdown",
   "metadata": {},
   "source": [
    "Предположим, что вектора принадлежат указанному множеству:<br>\n",
    "один из векторов подпространства можно представить как $$\\sum_{i=1}^{n}\\lambda_{i}u_{i}.$$, <br> второй как $$\\sum_{i=1}^{n}\\sigma_{i}u_{i}.$$\n",
    "\n",
    "тогда сумма двух векторов $$\\sum_{i=1}^{n}\\lambda_{i}u_{i}+\\sum_{i=n}^{n} \\sigma u_{i}= \\sum_{i=1}^{n}\\beta _{i}u_{i},$$\n",
    "произведение вектора на число $$\\beta \\sum_{i=1}^{n}\\lambda_{i}u_{i} = \\sum_{i=1}^{n}\\beta \\lambda_{i}u_{i} = \\sum_{i=1}^{n}\\sigma_{i}u_{i}$$. Что и требовалось доказать. Следовательно, указанное множество векторов является линейным подпространством"
   ]
  },
  {
   "cell_type": "markdown",
   "metadata": {},
   "source": [
    "## Часть 2"
   ]
  },
  {
   "cell_type": "markdown",
   "metadata": {},
   "source": [
    "### __1.__ Найти скалярное произведение векторов $x, y \\in \\mathbb{R}$:<br>"
   ]
  },
  {
   "cell_type": "markdown",
   "metadata": {},
   "source": [
    "#### а) $x=(0,-3, 6),~y=(-4, 7, 9);$<br>"
   ]
  },
  {
   "cell_type": "markdown",
   "metadata": {},
   "source": [
    "$(x,y) = 0 \\cdot (-4) + (-3) \\cdot 7 + 6 \\cdot 9 =  33$"
   ]
  },
  {
   "cell_type": "code",
   "execution_count": 14,
   "metadata": {},
   "outputs": [
    {
     "name": "stdout",
     "output_type": "stream",
     "text": [
      "Скалярное произведение x и y: 33\n"
     ]
    }
   ],
   "source": [
    "import numpy as np\n",
    "x = np.array([0, -3, 6])\n",
    "y = np.array([-4, 7, 9])\n",
    "print(f'Скалярное произведение x и y: {x @ y}')"
   ]
  },
  {
   "cell_type": "markdown",
   "metadata": {},
   "source": [
    "#### б) $x=(7, -4, 0, 1),~y=(-3, 1, 11, 2).$"
   ]
  },
  {
   "cell_type": "markdown",
   "metadata": {},
   "source": [
    "$(x,y) = 7 \\cdot (-3) + (-4) \\cdot 1 + 0 \\cdot 11 + 1 \\cdot 2 = -23 $"
   ]
  },
  {
   "cell_type": "code",
   "execution_count": 15,
   "metadata": {},
   "outputs": [
    {
     "name": "stdout",
     "output_type": "stream",
     "text": [
      "Скалярное произведение x и y: -23\n"
     ]
    }
   ],
   "source": [
    "x = np.array([7, -4, 0 , 1])\n",
    "y = np.array([-3, 1, 11, 2])\n",
    "print(f'Скалярное произведение x и y: {x @ y}')"
   ]
  },
  {
   "cell_type": "markdown",
   "metadata": {},
   "source": [
    "### __2.__ Найти нормы векторов $(4, 2, 4)$ и $(12, 3, 4)$ и угол между ними."
   ]
  },
  {
   "cell_type": "markdown",
   "metadata": {},
   "source": [
    "Манхэттенская норма векторов $a$ и $b$:\n",
    "\n",
    "$\\left\\|x_a\\right\\|_{1} = |4|+|2|+|4|=10.$ <br>\n",
    "$\\left\\|x_b\\right\\|_{1} = |12|+|3|+|4|=19.$"
   ]
  },
  {
   "cell_type": "code",
   "execution_count": 16,
   "metadata": {},
   "outputs": [],
   "source": [
    "from numpy.linalg import norm"
   ]
  },
  {
   "cell_type": "code",
   "execution_count": 18,
   "metadata": {},
   "outputs": [
    {
     "name": "stdout",
     "output_type": "stream",
     "text": [
      "l1 Манхэттенская норма вектора a: 10.0\n",
      "l1 Манхэттенская норма вектора b: 19.0\n"
     ]
    }
   ],
   "source": [
    "a = np.array([4,2,4])\n",
    "b = np.array([12,3,4])\n",
    "print(f'l1 Манхэттенская норма вектора a: {norm(a, ord=1)}')\n",
    "print(f'l1 Манхэттенская норма вектора b: {norm(b, ord=1)}')"
   ]
  },
  {
   "cell_type": "markdown",
   "metadata": {},
   "source": [
    "Евклидова норма векторов $a$ и $b$ :"
   ]
  },
  {
   "cell_type": "markdown",
   "metadata": {},
   "source": [
    "$\\left\\|x_a\\right\\|_{2} = \\sqrt{4^{2}+2^{2}+4^{2}}=\\sqrt{36} = 6.$<br>\n",
    "$\\left\\|x_b\\right\\|_{2} = \\sqrt{12^{2}+3^{2}+4^{2}}=\\sqrt{169} = 13.$"
   ]
  },
  {
   "cell_type": "code",
   "execution_count": 20,
   "metadata": {
    "scrolled": true
   },
   "outputs": [
    {
     "name": "stdout",
     "output_type": "stream",
     "text": [
      "l2 Евклидова норма вектора а: 6.0\n",
      "l2 Евклидова норма вектора b: 13.0\n"
     ]
    }
   ],
   "source": [
    "print(f'l2 Евклидова норма вектора а: {norm(a, ord=2)}')\n",
    "print(f'l2 Евклидова норма вектора b: {norm(b, ord=2)}')"
   ]
  },
  {
   "cell_type": "markdown",
   "metadata": {},
   "source": [
    "$cos\\varphi = \\frac{(x,y)}{\\left \\|x\\right \\|\\cdot\\left \\|y\\right \\|} = \\frac{4 \\cdot 12 + 2 \\cdot 3 + 4 \\cdot 4}{6 \\cdot 13} = \\frac {70}{78} \\approx 0.90.$"
   ]
  },
  {
   "cell_type": "code",
   "execution_count": 29,
   "metadata": {},
   "outputs": [
    {
     "name": "stdout",
     "output_type": "stream",
     "text": [
      "Косинус угла между векторами: 0.90\n",
      "Угол: 0.46\n"
     ]
    }
   ],
   "source": [
    "cos_phi = np.dot(a, b) / norm(a) / norm(b)\n",
    "print(f'Косинус угла между векторами: {cos_phi:.2f}')\n",
    "print(f'Угол: {np.arccos(cos_phi):.2f}')"
   ]
  },
  {
   "cell_type": "markdown",
   "metadata": {},
   "source": [
    "### __3.__ Будет ли линейное пространство евклидовым, если за скалярное произведение принять:<br>"
   ]
  },
  {
   "cell_type": "markdown",
   "metadata": {},
   "source": [
    "1) (x,y)=(y,x);<br>\n",
    "2) (λx,y)=λ(x,y);<br>\n",
    "3) (x1+x2,y)=(x1,y)+(x2,y);<br>\n",
    "4) (x,x)≥0, причем  (x,x)=0⇔x=0"
   ]
  },
  {
   "cell_type": "markdown",
   "metadata": {},
   "source": [
    "#### а) произведение длин векторов;<br>"
   ]
  },
  {
   "cell_type": "markdown",
   "metadata": {},
   "source": [
    "да, условие удовлетворяет, поскольку<br>\n",
    "(x,y)=|x|⋅|y|⋅cosα <br>"
   ]
  },
  {
   "cell_type": "markdown",
   "metadata": {},
   "source": [
    "#### б) утроенное обычное скалярное произведение векторов?<br>"
   ]
  },
  {
   "cell_type": "markdown",
   "metadata": {},
   "source": [
    "да, условие удовлетворяет поскольку:<br>\n",
    " $\\lambda(x, y) = (\\lambda x, y);$<br>"
   ]
  },
  {
   "cell_type": "markdown",
   "metadata": {},
   "source": [
    "### __4.__ Какие из нижеперечисленных векторов образуют ортонормированный базис <br> в линейном пространстве $\\mathbb{R}^{3}$:"
   ]
  },
  {
   "cell_type": "markdown",
   "metadata": {},
   "source": [
    "#### а) $(1,0,0),(0,0,1);$ <br>"
   ]
  },
  {
   "cell_type": "code",
   "execution_count": 45,
   "metadata": {},
   "outputs": [
    {
     "name": "stdout",
     "output_type": "stream",
     "text": [
      "Скалярное произведение x и y: 0\n",
      "Скалярное произведение x и x: 1\n",
      "Скалярное произведение y и y: 1\n"
     ]
    }
   ],
   "source": [
    "x = np.array([1,0,0])\n",
    "y = np.array([0,0,1])\n",
    "print(f'Скалярное произведение x и y: {x @ y}')\n",
    "print(f'Скалярное произведение x и x: {x @ x}')\n",
    "print(f'Скалярное произведение y и y: {y @ y}')"
   ]
  },
  {
   "cell_type": "markdown",
   "metadata": {},
   "source": [
    "векторы образуют ортонормированный базис"
   ]
  },
  {
   "cell_type": "markdown",
   "metadata": {},
   "source": [
    "#### б) $(1/\\sqrt{2},-1/\\sqrt{2},0),(1/\\sqrt{2},1/\\sqrt{2},0), (0,0,1);$<br>"
   ]
  },
  {
   "cell_type": "code",
   "execution_count": 47,
   "metadata": {
    "scrolled": true
   },
   "outputs": [
    {
     "name": "stdout",
     "output_type": "stream",
     "text": [
      "Скалярное произведение x и y: 0.0\n",
      "Скалярное произведение x и z: 0.0\n",
      "Скалярное произведение y и z: 0.0\n",
      "Скалярное произведение x и x: 0.9999999999999998\n",
      "Скалярное произведение y и y: 0.9999999999999998\n",
      "Скалярное произведение z и z: 1\n"
     ]
    }
   ],
   "source": [
    "x = np.array([1 / 2**0.5,-1 / 2**0.5,0])\n",
    "y = np.array([1 / 2**0.5,1 / 2**0.5,0])\n",
    "z = np.array([0,0,1])\n",
    "\n",
    "print(f'Скалярное произведение x и y: {x @ y}')\n",
    "print(f'Скалярное произведение x и z: {x @ z}')\n",
    "print(f'Скалярное произведение y и z: {y @ z}')\n",
    "print(f'Скалярное произведение x и x: {x @ x}')\n",
    "print(f'Скалярное произведение y и y: {y @ y}')\n",
    "print(f'Скалярное произведение z и z: {z @ z}')"
   ]
  },
  {
   "cell_type": "markdown",
   "metadata": {},
   "source": [
    "векторы образуют ортонормированный базис"
   ]
  },
  {
   "cell_type": "markdown",
   "metadata": {},
   "source": [
    "#### в) $(1/2, -1/2, 0), (0, 1/2, 1/2), (0,0,1);$<br>"
   ]
  },
  {
   "cell_type": "code",
   "execution_count": 48,
   "metadata": {
    "scrolled": true
   },
   "outputs": [
    {
     "name": "stdout",
     "output_type": "stream",
     "text": [
      "Скалярное произведение x и y: -0.25\n",
      "Скалярное произведение x и y: 0.0\n",
      "Скалярное произведение x и y: 0.5\n",
      "Скалярное произведение x и x: 0.5\n",
      "Скалярное произведение y и y: 0.5\n",
      "Скалярное произведение z и z: 1\n"
     ]
    }
   ],
   "source": [
    "x = np.array([1 / 2,-1 / 2,0])\n",
    "y = np.array([0 ,1 / 2, 1 / 2])\n",
    "z = np.array([0 ,0 ,1 ])\n",
    "print(f'Скалярное произведение x и y: {x @ y}')\n",
    "print(f'Скалярное произведение x и y: {x @ z}')\n",
    "print(f'Скалярное произведение x и y: {y @ z}')\n",
    "print(f'Скалярное произведение x и x: {x @ x}')\n",
    "print(f'Скалярное произведение y и y: {y @ y}')\n",
    "print(f'Скалярное произведение z и z: {z @ z}')"
   ]
  },
  {
   "cell_type": "markdown",
   "metadata": {},
   "source": [
    "векторы не образуют ортонормированный базис"
   ]
  },
  {
   "cell_type": "markdown",
   "metadata": {},
   "source": []
  },
  {
   "cell_type": "markdown",
   "metadata": {},
   "source": [
    "#### г) $(1,0,0),(0,1,0),(0,0,1)?$ "
   ]
  },
  {
   "cell_type": "code",
   "execution_count": 50,
   "metadata": {
    "scrolled": true
   },
   "outputs": [
    {
     "name": "stdout",
     "output_type": "stream",
     "text": [
      "Скалярное произведение x и y: 0\n",
      "Скалярное произведение x и y: 0\n",
      "Скалярное произведение x и y: 0\n",
      "Скалярное произведение x и x: 1\n",
      "Скалярное произведение y и y: 1\n",
      "Скалярное произведение z и z: 1\n"
     ]
    }
   ],
   "source": [
    "x = np.array([1 ,0 ,0])\n",
    "y = np.array([0 ,1 , 0])\n",
    "z = np.array([0 ,0 ,1 ])\n",
    "print(f'Скалярное произведение x и y: {x @ y}')\n",
    "print(f'Скалярное произведение x и y: {x @ z}')\n",
    "print(f'Скалярное произведение x и y: {y @ z}')\n",
    "print(f'Скалярное произведение x и x: {x @ x}')\n",
    "print(f'Скалярное произведение y и y: {y @ y}')\n",
    "print(f'Скалярное произведение z и z: {z @ z}')"
   ]
  },
  {
   "cell_type": "markdown",
   "metadata": {},
   "source": [
    "векторы образуют ортонормированный базис"
   ]
  }
 ],
 "metadata": {
  "kernelspec": {
   "display_name": "Python 3",
   "language": "python",
   "name": "python3"
  },
  "language_info": {
   "codemirror_mode": {
    "name": "ipython",
    "version": 3
   },
   "file_extension": ".py",
   "mimetype": "text/x-python",
   "name": "python",
   "nbconvert_exporter": "python",
   "pygments_lexer": "ipython3",
   "version": "3.8.5"
  }
 },
 "nbformat": 4,
 "nbformat_minor": 4
}
