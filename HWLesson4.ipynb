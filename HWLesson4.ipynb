{
 "cells": [
  {
   "cell_type": "markdown",
   "metadata": {},
   "source": [
    "### Системы линейных уравнений. Часть 1"
   ]
  },
  {
   "cell_type": "markdown",
   "metadata": {},
   "source": [
    "#### __1.__ Решить систему уравнений методом Гаусса:\n",
    "\n",
    "$$\\begin{cases}\n",
    "x_{1}+x_{2}-x_{3}-2x_{4}=0, \\\\\n",
    "2x_{1}+x_{2}-x_{3}+x_{4}=-2, \\\\\n",
    "x_{1}+x_{2}-3x_{3}+x_{4}=4.\n",
    "\\end{cases}$$\n"
   ]
  },
  {
   "cell_type": "markdown",
   "metadata": {},
   "source": [
    "Запишем расширенную матрицу системы:\n",
    "\n",
    "$$\\begin{pmatrix}\n",
    "\\left.\\begin{matrix}\n",
    "1 & 1 & -1 & -2  \\\\ \n",
    "2 & 1 & -1 & -1 \\\\ \n",
    "1 & 1 & -3 & -1\n",
    "\\end{matrix}\\right|\n",
    "\\begin{matrix}\n",
    "0\\\\ \n",
    "-2\\\\\n",
    "4\n",
    "\\end{matrix}\n",
    "\\end{pmatrix}.$$\n",
    "\n",
    "Путем элементарных преобразований постараемся привести матрицу к ступенчатому виду.<br>\n",
    "Вычтем из второй строки первую, умноженную на 2, и из третьей строки первую:"
   ]
  },
  {
   "cell_type": "markdown",
   "metadata": {},
   "source": [
    "$$\\begin{pmatrix}\n",
    "\\left.\\begin{matrix}\n",
    "1 & 1 & -1 & -2  \\\\ \n",
    "0 & -1 & -3 & -5 \\\\ \n",
    "0 & 0 & -4 & -3\n",
    "\\end{matrix}\\right|\n",
    "\\begin{matrix}\n",
    "0\\\\ \n",
    "-2\\\\\n",
    "4\n",
    "\\end{matrix}\n",
    "\\end{pmatrix}.$$"
   ]
  },
  {
   "cell_type": "markdown",
   "metadata": {},
   "source": [
    "Оставшаяся матрица соответствует системе:"
   ]
  },
  {
   "cell_type": "markdown",
   "metadata": {},
   "source": [
    "$$\\begin{cases}\n",
    "x_{1}+x_{2}-x_{3} -2x_{4}=0, \\\\\n",
    "-x_{2}-3x_{3} -5x_{4}=-2, \\\\\n",
    "~~-4x_{3}-3x_{4}=4.\n",
    "\\end{cases}$$"
   ]
  },
  {
   "cell_type": "markdown",
   "metadata": {},
   "source": [
    "Cистема имеет бесконечное количество решений"
   ]
  },
  {
   "cell_type": "markdown",
   "metadata": {},
   "source": [
    "В данном случае можно рассматривать в качестве _свободного_ параметра $x_{3}=c$. <br> Тогда, выражая остальные переменные через $c$, получим:\n",
    "\n",
    "$x_{3}=c, x_{4}= \\frac {4}{3}(1 + c),$"
   ]
  },
  {
   "cell_type": "markdown",
   "metadata": {},
   "source": [
    "$ x_{2} = 2 - 3x_{3} - 5 x_{4} \\rightarrow \\ x_{2} = 2 - 3c - \\frac{20}{3}(1+c) = \\frac{6 - 9c - 20 - 20c}{3} =  \\frac{-14 - 29c}{3} $"
   ]
  },
  {
   "cell_type": "markdown",
   "metadata": {},
   "source": [
    "$ x_{1} = -x_{2} + x_{3} + 2x_{4} \\rightarrow\\  x_{1} = \\frac{14 + 29c}{3} + c +\\frac {8}{3}(1 + c) = \\frac{(22 + 40c)}{3} $"
   ]
  },
  {
   "cell_type": "markdown",
   "metadata": {},
   "source": [
    "Таким будет _общее решение системы_. Подставляя произвольные числа вместо $c$, мы получим _частное решение_. Например, при $c=0$:\n",
    "\n",
    "$x_{1}= \\frac{22}{3}, x_{2}=\\frac{-14}{3},x_{3}=0, x_{4}= \\frac{4}{3}.$\n",
    "\n",
    "Параметр $c$ может принимать бесконечное количество значений, при которых уравнения в системе будут обращаться в тождества.\n",
    "\n",
    "Подставив общее решение в исходную систему, также получим тождества:\n",
    "\n",
    "$$\n",
    "\\begin{cases}\n",
    "(22 + 40c)/3 - (14+29c)/3 - c - 8/3(1+c)=0, \\\\\n",
    "(44 + 80c)/3 - (14+29c)/3 - c + 4/3(1+c)=-2, \\\\\n",
    "(22 + 40c)/3 - (14+29c)/3 -3c + 4/3(1+c)=4.\n",
    "\\end{cases}\n",
    "$$"
   ]
  },
  {
   "cell_type": "markdown",
   "metadata": {},
   "source": [
    "#### __2.__ Проверить на совместность и выяснить, сколько решений будет иметь система линейных уравнений:"
   ]
  },
  {
   "cell_type": "code",
   "execution_count": 1,
   "metadata": {},
   "outputs": [],
   "source": [
    "import numpy as np"
   ]
  },
  {
   "cell_type": "code",
   "execution_count": 20,
   "metadata": {},
   "outputs": [],
   "source": [
    "def c_slau(A,B,n):\n",
    "    rang_A = np.linalg.matrix_rank(A)\n",
    "    rang_AB = np.linalg.matrix_rank(np.hstack((A, B)))\n",
    "    if rang_A != rang_AB:\n",
    "        return 'система уравнений несовместна'\n",
    "    elif rang_A == rang_AB == n:\n",
    "        return 'система совместна, определенная'\n",
    "    elif (rang_A == rang_AB) and (rang_A < n):\n",
    "        return 'система совместна, неопределенная'"
   ]
  },
  {
   "cell_type": "markdown",
   "metadata": {},
   "source": [
    "\n",
    "   а) $\\begin{cases}\n",
    "3x_{1}-x_{2}+x_{3}=4, \\\\\n",
    "2x_{1}-5x_{2}-3x_{3}=-17, \\\\\n",
    "x_{1}+x_{2}-x_{3}=0;\n",
    "\\end{cases}$"
   ]
  },
  {
   "cell_type": "code",
   "execution_count": 21,
   "metadata": {},
   "outputs": [
    {
     "data": {
      "text/plain": [
       "'система совместна, определенная'"
      ]
     },
     "execution_count": 21,
     "metadata": {},
     "output_type": "execute_result"
    }
   ],
   "source": [
    "A = np.array([[3, -1, 1], [2, -5, -3], [1, 1, -1]])\n",
    "B = np.array([4, -17, 0]).reshape(-1, 1)\n",
    "c_slau(A, B, 3)"
   ]
  },
  {
   "cell_type": "markdown",
   "metadata": {},
   "source": [
    "   б) $\\begin{cases}\n",
    "2x_{1}-4x_{2}+6x_{3}=1, \\\\\n",
    "x_{1}-2x_{2}+3x_{3}=-2, \\\\\n",
    "3x_{1}-6x_{2}+9x_{3}=5;\n",
    "\\end{cases}$"
   ]
  },
  {
   "cell_type": "code",
   "execution_count": 22,
   "metadata": {},
   "outputs": [
    {
     "data": {
      "text/plain": [
       "'система уравнений несовместна'"
      ]
     },
     "execution_count": 22,
     "metadata": {},
     "output_type": "execute_result"
    }
   ],
   "source": [
    "A = np.array([[2, -4, 6], [1, -2, 3], [3, -6, 9]])\n",
    "B = np.array([1, -2, 5]).reshape(-1, 1)\n",
    "c_slau(A, B, 3)"
   ]
  },
  {
   "cell_type": "markdown",
   "metadata": {},
   "source": [
    "   в) $\\begin{cases}\n",
    "x_{1}+2x_{2}+5x_{3}=4, \\\\\n",
    "3x_{1}+x_{2}-8x_{3}=-2. \n",
    "\\end{cases}$"
   ]
  },
  {
   "cell_type": "code",
   "execution_count": 23,
   "metadata": {},
   "outputs": [
    {
     "data": {
      "text/plain": [
       "'система совместна, неопределенная'"
      ]
     },
     "execution_count": 23,
     "metadata": {},
     "output_type": "execute_result"
    }
   ],
   "source": [
    "A = np.array([[1, 2, 5], [3, 1, -8]])\n",
    "B = np.array([4, -2]).reshape(-1, 1)\n",
    "c_slau(A, B, 3)"
   ]
  },
  {
   "cell_type": "markdown",
   "metadata": {},
   "source": [
    "#### __3.__ Проверить на совместность и выяснить, сколько решений будет иметь система линейных уравнений, заданная расширенной матрицей\n",
    "\n",
    "$$\\tilde{A}=\\begin{pmatrix}\n",
    "\\left.\\begin{matrix}\n",
    "1 & 3 & -2 & 4\\\\ \n",
    "0 & 5 & 0 & 1\\\\ \n",
    "0 & 0 & 3 & 0\\\\ \n",
    "0 & 0 & 0 & 2\n",
    "\\end{matrix}\\right|\n",
    "\\begin{matrix}\n",
    "3\\\\ \n",
    "2\\\\\n",
    "4\\\\\n",
    "1\n",
    "\\end{matrix}\n",
    "\\end{pmatrix}.$$\n"
   ]
  },
  {
   "cell_type": "code",
   "execution_count": 25,
   "metadata": {},
   "outputs": [
    {
     "data": {
      "text/plain": [
       "'система совместна, определенная'"
      ]
     },
     "execution_count": 25,
     "metadata": {},
     "output_type": "execute_result"
    }
   ],
   "source": [
    "A = np.array([[1, 3, -2, 4], [0, 5, 0, 1], [0, 0, 3, 0], [0, 0, 0, 2]])\n",
    "B = np.array([3, 2, 4 ,1]).reshape(-1, 1)\n",
    "c_slau(A, B, 4)"
   ]
  },
  {
   "cell_type": "markdown",
   "metadata": {},
   "source": [
    "#### __4.__ Дана система линейных уравнений, заданная расширенной матрицей\n",
    "\n",
    "$$\\tilde{A}=\\begin{pmatrix}\n",
    "\\left.\\begin{matrix}\n",
    "1 & 2 & 3\\\\ \n",
    "4 & 5 & 6\\\\ \n",
    "7 & 8 & 9\n",
    "\\end{matrix}\\right|\n",
    "\\begin{matrix}\n",
    "a\\\\ \n",
    "b\\\\\n",
    "c\n",
    "\\end{matrix}\n",
    "\\end{pmatrix}.$$\n",
    "\n",
    "Найти соотношение между параметрами $a$, $b$ и $c$, при которых система является несовместной."
   ]
  },
  {
   "cell_type": "markdown",
   "metadata": {},
   "source": [
    "из строки 3 вычитается строка 2, умноженная на 2:"
   ]
  },
  {
   "cell_type": "markdown",
   "metadata": {},
   "source": [
    "$$\\tilde{A}=\\begin{pmatrix}\n",
    "\\left.\\begin{matrix}\n",
    "1 & 2 & 3\\\\ \n",
    "4 & 5 & 6\\\\ \n",
    "-1 & -2 & -3\n",
    "\\end{matrix}\\right|\n",
    "\\begin{matrix}\n",
    "a\\\\ \n",
    "b\\\\\n",
    "c-2b\n",
    "\\end{matrix}\n",
    "\\end{pmatrix}.$$\n"
   ]
  },
  {
   "cell_type": "markdown",
   "metadata": {},
   "source": [
    "к строке 3 прибавляем строку 1:"
   ]
  },
  {
   "cell_type": "markdown",
   "metadata": {},
   "source": [
    "$$\\tilde{A}=\\begin{pmatrix}\n",
    "\\left.\\begin{matrix}\n",
    "1 & 2 & 3\\\\ \n",
    "4 & 5 & 6\\\\ \n",
    "0 & 0 & 0\n",
    "\\end{matrix}\\right|\n",
    "\\begin{matrix}\n",
    "a\\\\ \n",
    "b\\\\\n",
    "c-2b + a\n",
    "\\end{matrix}\n",
    "\\end{pmatrix}.$$\n"
   ]
  },
  {
   "cell_type": "markdown",
   "metadata": {},
   "source": [
    "система несовместна, если с - 2b + a ≠ 0"
   ]
  },
  {
   "cell_type": "markdown",
   "metadata": {},
   "source": [
    "### Системы линейных уравнений. Часть 2"
   ]
  },
  {
   "cell_type": "markdown",
   "metadata": {},
   "source": [
    "#### _1.__ Решить систему уравнений методом Крамера:"
   ]
  },
  {
   "cell_type": "markdown",
   "metadata": {},
   "source": [
    "   а) $\\begin{cases}\n",
    "x_{1}-2x_{2}=1 \\\\\n",
    "3x_{1}-4x_{2}=7\n",
    "\\end{cases}$"
   ]
  },
  {
   "cell_type": "markdown",
   "metadata": {},
   "source": [
    "Найдем определитель матрицы коэффициентов:\n",
    "\n",
    "$detA=\\begin{vmatrix}\n",
    "1 & -2\\\\ \n",
    "3 & -4\n",
    "\\end{vmatrix} = 1 \\cdot (-4) - (-2) \\cdot 3 = 2 \\neq 0 $, <br> следовательно, система совместна."
   ]
  },
  {
   "cell_type": "markdown",
   "metadata": {},
   "source": [
    "Найдем определители  detA1 ,  detA2 ,  detA3 :"
   ]
  },
  {
   "cell_type": "markdown",
   "metadata": {},
   "source": [
    "$detA_{1}=\\begin{vmatrix}\n",
    "1 & -2\\\\ \n",
    "7 & -4 & \n",
    "\\end{vmatrix}=\n",
    "1 \\cdot (-4) - (-2) \\cdot (7) =10,$"
   ]
  },
  {
   "cell_type": "markdown",
   "metadata": {},
   "source": [
    "$detA_{2}=\\begin{vmatrix}\n",
    "1 & 1\\\\ \n",
    "3 & 7 & \n",
    "\\end{vmatrix}=\n",
    "1 \\cdot 7 - 1 \\cdot 3 =4,$"
   ]
  },
  {
   "cell_type": "markdown",
   "metadata": {},
   "source": [
    "Найдем решение по формулам Крамера:"
   ]
  },
  {
   "cell_type": "markdown",
   "metadata": {},
   "source": [
    "$x_{1} = \\frac{detA_{1}}{detA} = \\frac{10}{2}=5,$ <br>\n",
    "$x_{2} = \\frac{detA_{2}}{detA} = \\frac{4}{2}=2.$"
   ]
  },
  {
   "cell_type": "code",
   "execution_count": 27,
   "metadata": {},
   "outputs": [
    {
     "data": {
      "text/plain": [
       "array([[5.],\n",
       "       [2.]])"
      ]
     },
     "execution_count": 27,
     "metadata": {},
     "output_type": "execute_result"
    }
   ],
   "source": [
    "A = np.array([[1, -2], [3, -4]])\n",
    "b = np.array([1, 7]).reshape(-1, 1)\n",
    "np.linalg.solve(A, b)"
   ]
  },
  {
   "cell_type": "markdown",
   "metadata": {},
   "source": [
    "   б) $\\begin{cases}\n",
    "2x_{1}-x_{2}+5x_{3}=10 \\\\\n",
    "x_{1}+x_{2}-3x_{3}=-2 \\\\\n",
    "2x_{1}+4x_{2}+x_{3}=1\n",
    "\\end{cases}$"
   ]
  },
  {
   "cell_type": "markdown",
   "metadata": {},
   "source": [
    "Найдем определитель матрицы коэффициентов:\n",
    "\n",
    "$detA=\\begin{vmatrix}\n",
    "2 & -1 & 5\\\\ \n",
    "1 & 1 & -3\\\\\n",
    "2 & 4 & 1\n",
    "\\end{vmatrix} = \n",
    "2\\begin{vmatrix}\n",
    "1 & -3\\\\ \n",
    "4 & 1 \n",
    "\\end{vmatrix}+\n",
    "1\\begin{vmatrix}\n",
    "1 & -3\\\\ \n",
    "2 & 1 \n",
    "\\end{vmatrix}+5\n",
    "\\begin{vmatrix}\n",
    "1 & 1 \\\\ \n",
    "2 & 4\n",
    "\\end{vmatrix}=2(1 \\cdot 1 + 3\\cdot 4) + 1(1\\cdot 1  + 3\\cdot 2) + 5(1\\cdot 4 -1\\cdot 2)=43\\neq 0,$\n",
    "\n",
    "<br> следовательно, система совместна."
   ]
  },
  {
   "cell_type": "markdown",
   "metadata": {},
   "source": [
    "Найдем определители $detA_{1}$, $detA_{2}$, $detA_{3}$:\n",
    "\n",
    "$detA_{1}=\n",
    "\\begin{vmatrix}\n",
    "10 & -1 & 5\\\\ \n",
    "-2 & 1 & -3\\\\ \n",
    "1 & 4 & 1\n",
    "\\end{vmatrix}=\n",
    "10\\begin{vmatrix}\n",
    "1 & -3\\\\ \n",
    "4 & 1 \n",
    "\\end{vmatrix}+\n",
    "1\\begin{vmatrix}\n",
    "-2 & -3\\\\ \n",
    "1 & 1 \n",
    "\\end{vmatrix}+\n",
    "5\\begin{vmatrix}\n",
    "-2 & 1 \\\\ \n",
    "1 & 4\n",
    "\\end{vmatrix}=10(1 \\cdot 1 + 3\\cdot 4) + 1(-2 \\cdot 1 -(-3)\\cdot 1) + 5(-2 \\cdot 4 - 1 \\cdot 1)=77,$"
   ]
  },
  {
   "cell_type": "markdown",
   "metadata": {},
   "source": [
    "$detA_{2}=\\begin{vmatrix}\n",
    "2 & 10 & 5\\\\ \n",
    "1 & -2 & -3\\\\ \n",
    "2 & 1 & 1\n",
    "\\end{vmatrix}=\n",
    "2\\begin{vmatrix}\n",
    "-2 & -3\\\\ \n",
    "1 & 1 \n",
    "\\end{vmatrix}-\n",
    "10\\begin{vmatrix}\n",
    "1 & -3\\\\ \n",
    "2 & 1 \n",
    "\\end{vmatrix}+5\n",
    "\\begin{vmatrix}\n",
    "1 & -2 \\\\ \n",
    "2 & 1\n",
    "\\end{vmatrix}=2(-2 \\cdot 1 + 3 \\cdot 1)-10(1\\cdot 1 + 3\\cdot 2) + 5 (1\\cdot 1 + 2 \\cdot 2)=-43,$\n"
   ]
  },
  {
   "cell_type": "markdown",
   "metadata": {},
   "source": [
    "$detA_{3}=\\begin{vmatrix}\n",
    "2 & -1 & 10\\\\ \n",
    "1 & 1 & -2\\\\\n",
    "2 & 4 & 1\n",
    "\\end{vmatrix} = \n",
    "2\\begin{vmatrix}\n",
    "1 & -2\\\\ \n",
    "4 & 1 \n",
    "\\end{vmatrix}+\n",
    "1\\begin{vmatrix}\n",
    "1 & -2\\\\ \n",
    "2 & 1 \n",
    "\\end{vmatrix}+\n",
    "10\\begin{vmatrix}\n",
    "1 & 1 \\\\ \n",
    "2 & 4\n",
    "\\end{vmatrix}=2(1 \\cdot 1 + 2\\cdot 4) + 1 (1\\cdot 1 + 2 \\cdot 2) +10(1 \\cdot 4 - 1 \\cdot 2)= 43.$\n"
   ]
  },
  {
   "cell_type": "markdown",
   "metadata": {},
   "source": [
    "Найдем решение по формулам Крамера:\n",
    "\n",
    "$$x_{1} = \\frac{detA_{1}}{detA} = \\frac{77}{43}=1\\frac{34}{43},$$\n",
    "\n",
    "$$x_{2} = \\frac{detA_{2}}{detA} = \\frac{-43}{43}=-1,$$\n",
    "\n",
    "$$x_{3} = \\frac{detA_{3}}{detA} = \\frac{43}{43}=1.$$"
   ]
  },
  {
   "cell_type": "code",
   "execution_count": 29,
   "metadata": {},
   "outputs": [
    {
     "data": {
      "text/plain": [
       "array([[ 2.],\n",
       "       [-1.],\n",
       "       [ 1.]])"
      ]
     },
     "execution_count": 29,
     "metadata": {},
     "output_type": "execute_result"
    }
   ],
   "source": [
    "A = np.array([[2, -1, 5],[1, 1, -3], [2, 4, 1]])\n",
    "b = np.array([10, -2, 1]).reshape(-1, 1)\n",
    "np.linalg.solve(A, b)"
   ]
  },
  {
   "cell_type": "markdown",
   "metadata": {},
   "source": [
    "#### __2*.__ Найти $L$-матрицу $LU$-разложения для матрицы коэффициентов:"
   ]
  },
  {
   "cell_type": "markdown",
   "metadata": {},
   "source": [
    "   а)$$\\begin{pmatrix}\n",
    "1 & 2 & 4 \\\\ \n",
    "2 & 9 & 12 \\\\ \n",
    "3 & 26 & 30\n",
    "\\end{pmatrix}$$"
   ]
  },
  {
   "cell_type": "markdown",
   "metadata": {},
   "source": [
    "   а)U =\n",
    "$\\begin{pmatrix}\n",
    "1 & 2 & 4 \\\\ \n",
    "0 & 5 & 4 \\\\ \n",
    "0 & 20 & 18\n",
    "\\end{pmatrix} =$ \n",
    "$\\begin{pmatrix}\n",
    "1 & 2 & 4 \\\\ \n",
    "0 & 5 & 4 \\\\ \n",
    "0 & 0 & 2\n",
    "\\end{pmatrix}$  - матрица коэффициентов. Kоэффиценты для матрицы L: l_21 = 2, l_31 = 3, l_32 = 4"
   ]
  },
  {
   "cell_type": "markdown",
   "metadata": {},
   "source": [
    "L = $\\begin{pmatrix}\n",
    "1 & 0 & 0 \\\\ \n",
    "2 & 1 & 0 \\\\ \n",
    "3 & 4 & 0\n",
    "\\end{pmatrix}$"
   ]
  },
  {
   "cell_type": "markdown",
   "metadata": {},
   "source": [
    "   б)$$\\begin{pmatrix}\n",
    "1 & 1 & 2 & 4\\\\ \n",
    "2 & 5 & 8 & 9\\\\ \n",
    "3 & 18 & 29 & 18\\\\\n",
    "4 & 22 & 53 & 33\n",
    "\\end{pmatrix}$$"
   ]
  },
  {
   "cell_type": "markdown",
   "metadata": {},
   "source": [
    "   б)U = $\\begin{pmatrix}\n",
    "1 & 1 & 2 & 4\\\\ \n",
    "0 & 3 & 4 & 1\\\\ \n",
    "0 & 15 & 23 & 6\\\\\n",
    "0 & 18 & 45 & 17\n",
    "\\end{pmatrix}$ = \n",
    "$\\begin{pmatrix}\n",
    "1 & 1 & 2 & 4\\\\ \n",
    "0 & 3 & 4 & 1\\\\ \n",
    "0 & 0 & 3 & 1\\\\\n",
    "0 & 0 & 21 & 11\n",
    "\\end{pmatrix}$ =\n",
    "$\\begin{pmatrix}\n",
    "1 & 1 & 2 & 4\\\\ \n",
    "0 & 3 & 4 & 1\\\\ \n",
    "0 & 0 & 3 & 1\\\\\n",
    "0 & 0 & 0 & 4\n",
    "\\end{pmatrix}$"
   ]
  },
  {
   "cell_type": "markdown",
   "metadata": {},
   "source": [
    "l_21 = 2, l_31 = 3, l_41 = 4, l_23 = 5, l_24 = 6 , l_34 = 7"
   ]
  },
  {
   "cell_type": "markdown",
   "metadata": {},
   "source": [
    "L = $\\begin{pmatrix}\n",
    "1 & 0 & 0 & 0 \\\\ \n",
    "2 & 1 & 0 & 0 \\\\ \n",
    "3 & 5 & 1 & 0 \\\\\n",
    "4 & 6 & 7 & 1 \n",
    "\\end{pmatrix}$"
   ]
  },
  {
   "cell_type": "markdown",
   "metadata": {},
   "source": [
    "#### __3*.__ Решить систему линейных уравнений методом $LU$-разложения:"
   ]
  },
  {
   "cell_type": "markdown",
   "metadata": {},
   "source": [
    "$$\\begin{cases}\n",
    "2x_{1}+x_{2}+3x_{3}=1 \\\\\n",
    "11x_{1}+7x_{2}+5x_{3}=-6 \\\\\n",
    "9x_{1}+8x_{2}+4x_{3}=-5\n",
    "\\end{cases}$$"
   ]
  },
  {
   "cell_type": "markdown",
   "metadata": {},
   "source": [
    "U = $\\begin{pmatrix}\n",
    "2 & 1 & 3 \\\\ \n",
    "11 & 7 & 5 \\\\ \n",
    "9 & 8 & 4\n",
    "\\end{pmatrix}$ = $\\begin{pmatrix}\n",
    "2 & 1 & 3 \\\\ \n",
    "0 & 1.5 & -11.5 \\\\ \n",
    "0 & 3.5 & -9.5\n",
    "\\end{pmatrix}$ =\n",
    "$\\begin{pmatrix}\n",
    "2 & 1 & 3 \\\\ \n",
    "0 & 1.5 & -11.5 \\\\ \n",
    "0 & 0 & 17.33\n",
    "\\end{pmatrix}$"
   ]
  },
  {
   "cell_type": "markdown",
   "metadata": {},
   "source": [
    "l_21 = 5.5, l_31 = 4.5, l_32 = 2.333"
   ]
  },
  {
   "cell_type": "markdown",
   "metadata": {},
   "source": [
    "L = $\\begin{pmatrix}\n",
    "1 & 0 & 0\\\\ \n",
    "5.5 & 1 & 0\\\\ \n",
    "4.5 & 2.333 & 1\n",
    "\\end{pmatrix}$"
   ]
  },
  {
   "cell_type": "markdown",
   "metadata": {},
   "source": [
    "Решим теперь систему \n",
    "\n",
    "$$Ly=b:$$\n",
    "\n",
    "$\\begin{cases}\n",
    "y_{1}=1, \\\\\n",
    "5.5y_{1}+y_{2}=-6, \\\\\n",
    "4.5y_{1}+2.333y_{2}+y_{3}=-5.\n",
    "\\end{cases}$ -> \n",
    "$\\begin{cases}\n",
    "y_{1}=1, \\\\\n",
    "y_{2}=-11.5, \\\\\n",
    "y_{3}=17.33.\n",
    "\\end{cases}$"
   ]
  },
  {
   "cell_type": "markdown",
   "metadata": {},
   "source": [
    "И затем систему\n",
    "\n",
    "$$Ux=y:$$\n",
    "\n",
    "$\\begin{cases}\n",
    "2x_{1}+x_{2}+ 3x_{3}=1, \\\\\n",
    "1.5x_{2} - 11.5x_{3}=-11.5\\\\\n",
    "17.333x_{3} = 17.33.\n",
    "\\end{cases}$ -> \n",
    "$\\begin{cases}\n",
    "x_{1} = -1, \\\\\n",
    "x_{2} = 0\\\\\n",
    "x_{3} = 1.\n",
    "\\end{cases}$\n"
   ]
  },
  {
   "cell_type": "markdown",
   "metadata": {},
   "source": [
    "#### __4*.__ Решить систему линейных уравнений методом Холецкого:"
   ]
  },
  {
   "cell_type": "markdown",
   "metadata": {},
   "source": [
    "$$\\begin{cases}\n",
    "81x_{1}-45x_{2}+45x_{3}=531 \\\\\n",
    "-45x_{1}+50x_{2}-15x_{3}=-460 \\\\\n",
    "45x_{1}-15x_{2}+38x_{3}=193\n",
    "\\end{cases}$$"
   ]
  },
  {
   "cell_type": "markdown",
   "metadata": {},
   "source": [
    "$l_{11} = \\sqrt{81} = 9$ <br>\n",
    "$l_{21} = \\frac{-45}{9} = -5$ <br>\n",
    "$l_{31} = \\frac{45}{9} = 5$ "
   ]
  },
  {
   "cell_type": "markdown",
   "metadata": {},
   "source": [
    "$l_{22} = \\sqrt{50 - (-5)^{2}} = 5$ <br>\n",
    "$l_{32} = \\frac{1}{5} \\cdot (-15 - (-5) \\cdot 5 ) = 2$ <br>\n",
    "$l_{33} = \\sqrt{38 - 5^{2} - 2^{2}} = 3$ "
   ]
  },
  {
   "cell_type": "markdown",
   "metadata": {},
   "source": [
    "Получили матрицу \n",
    "\n",
    "$L = \\begin{pmatrix}\n",
    "9 & 0 & 0 \\\\ \n",
    "-5 & 5 & 0 \\\\ \n",
    "5 & 2 & 3\n",
    "\\end{pmatrix}$ , $L^{T} = \\begin{pmatrix}\n",
    "9 & -5 & 5 \\\\ \n",
    "0 & 5 & 2 \\\\ \n",
    "0 & 0 & 3\n",
    "\\end{pmatrix}$"
   ]
  },
  {
   "cell_type": "markdown",
   "metadata": {},
   "source": [
    "Решим систему $Ly=b:$"
   ]
  },
  {
   "cell_type": "markdown",
   "metadata": {},
   "source": [
    "$\\begin{cases}\n",
    "9y_{1}=531 \\\\\n",
    "-5y_{1}+5y_{2}=-460 \\\\\n",
    "5y_{1}+2y_{2}+3y_{3}=193\n",
    "\\end{cases}$ ->\n",
    "$\\begin{cases}\n",
    "y_{1}=59 \\\\\n",
    "y_{2}=-33 \\\\\n",
    "y_{3}= - 798.67\n",
    "\\end{cases}$"
   ]
  },
  {
   "cell_type": "markdown",
   "metadata": {},
   "source": [
    "И решим систему $L^{T}x=y:$"
   ]
  },
  {
   "cell_type": "markdown",
   "metadata": {},
   "source": [
    "$\\begin{cases}\n",
    "9x_{1} - 5x_{2} + 5x_{3}=59 \\\\\n",
    "5x_{2}+2x_{3}=-33 \\\\\n",
    "3x_{3}=-798.67\n",
    "\\end{cases}$"
   ]
  },
  {
   "cell_type": "markdown",
   "metadata": {},
   "source": [
    "$\\begin{cases}\n",
    "x_{1} =210 \\\\\n",
    "x_{2}=100 \\\\\n",
    "x_{3}=-266.22\n",
    "\\end{cases}$"
   ]
  },
  {
   "cell_type": "markdown",
   "metadata": {},
   "source": [
    "#### __5*.__ Написать на Python программу с реализацией одного из изученных алгоритмов решения СЛАУ.\n"
   ]
  },
  {
   "cell_type": "code",
   "execution_count": null,
   "metadata": {},
   "outputs": [],
   "source": []
  }
 ],
 "metadata": {
  "kernelspec": {
   "display_name": "Python 3",
   "language": "python",
   "name": "python3"
  },
  "language_info": {
   "codemirror_mode": {
    "name": "ipython",
    "version": 3
   },
   "file_extension": ".py",
   "mimetype": "text/x-python",
   "name": "python",
   "nbconvert_exporter": "python",
   "pygments_lexer": "ipython3",
   "version": "3.8.5"
  }
 },
 "nbformat": 4,
 "nbformat_minor": 4
}
